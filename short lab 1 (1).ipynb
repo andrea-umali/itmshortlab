{
 "cells": [
  {
   "cell_type": "markdown",
   "metadata": {},
   "source": [
    "## UMALI\n",
    "## 195107\n",
    "## 2 - BS ITE"
   ]
  },
  {
   "cell_type": "code",
   "execution_count": 1,
   "metadata": {},
   "outputs": [
    {
     "name": "stdout",
     "output_type": "stream",
     "text": [
      "Enter amount in US Dollars: 20\n",
      "20 US Dollar(s) =  1000 Philippine Peso(s)\n"
     ]
    }
   ],
   "source": [
    "def compute_php(usd):\n",
    "    php = (usd * 50)\n",
    "    return php\n",
    "    \n",
    "# ask for amount in usd\n",
    "usd = int(input(\"Enter amount in US Dollars: \"))\n",
    "\n",
    "# compute for php\n",
    "php = compute_php(usd)\n",
    "\n",
    "# display the conversion\n",
    "print (usd, \"US Dollar(s) = \", php, \"Philippine Peso(s)\")"
   ]
  },
  {
   "cell_type": "code",
   "execution_count": 44,
   "metadata": {},
   "outputs": [
    {
     "name": "stdout",
     "output_type": "stream",
     "text": [
      "128\n",
      "8\n",
      "136\n",
      "120\n",
      "1024\n",
      "16\n",
      "0\n"
     ]
    }
   ],
   "source": [
    "def compute_sum(a,b):\n",
    "    sum = (a + b)\n",
    "    return sum\n",
    "def compute_difference(a,b):\n",
    "    difference = (a - b)\n",
    "    return difference\n",
    "def compute_product(a,b):\n",
    "    product = (a * b)\n",
    "    return product\n",
    "def compute_quotient(a,b):\n",
    "    quotient = (a / b)\n",
    "    return quotient\n",
    "def compute_remainder(a,b):\n",
    "    remainder = (a % b)\n",
    "    return remainder\n",
    "    \n",
    "# ask for a\n",
    "a = int(input())\n",
    "\n",
    "# ask for b\n",
    "b = int(input())\n",
    "\n",
    "# compute for sum\n",
    "sum = compute_sum(a,b)\n",
    "\n",
    "# compute for difference\n",
    "difference = compute_difference(a,b)\n",
    "\n",
    "# compute for product\n",
    "product = compute_product(a,b)\n",
    "\n",
    "# compute for quotient\n",
    "quotient = int(compute_quotient(a,b))\n",
    "\n",
    "# compute for remainder\n",
    "remainder = compute_remainder(a,b)\n",
    "\n",
    "# display the answers\n",
    "print (sum)\n",
    "print (difference)\n",
    "print (product)\n",
    "print (quotient)\n",
    "print (remainder)"
   ]
  },
  {
   "cell_type": "code",
   "execution_count": 43,
   "metadata": {},
   "outputs": [
    {
     "name": "stdout",
     "output_type": "stream",
     "text": [
      "Enter weight in Kilograms (kg): 70\n",
      "Enter height in Centimeters (cm): 170\n",
      "BMI: 24.221453287197235\n"
     ]
    }
   ],
   "source": [
    "def convert_cm_to_m(cm):\n",
    "    m = (cm * 0.01)\n",
    "    return m\n",
    "def compute_BMI(kg,m):\n",
    "    BMI = (kg / m ** 2)\n",
    "    return BMI\n",
    "    \n",
    "# ask for weight in kg\n",
    "kg = int(input(\"Enter weight in Kilograms (kg): \"))\n",
    "\n",
    "# ask for height in cm\n",
    "cm = int(input(\"Enter height in Centimeters (cm): \"))\n",
    "\n",
    "# convert cm to m\n",
    "m = convert_cm_to_m(cm)\n",
    "\n",
    "# compute for BMI\n",
    "BMI = compute_BMI(kg,m)\n",
    "\n",
    "# display the results\n",
    "print (\"BMI:\", BMI)"
   ]
  }
 ],
 "metadata": {
  "kernelspec": {
   "display_name": "Python 3",
   "language": "python",
   "name": "python3"
  },
  "language_info": {
   "codemirror_mode": {
    "name": "ipython",
    "version": 3
   },
   "file_extension": ".py",
   "mimetype": "text/x-python",
   "name": "python",
   "nbconvert_exporter": "python",
   "pygments_lexer": "ipython3",
   "version": "3.8.3"
  }
 },
 "nbformat": 4,
 "nbformat_minor": 4
}
